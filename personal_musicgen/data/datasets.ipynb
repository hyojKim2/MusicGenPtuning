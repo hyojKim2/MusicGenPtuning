{
 "cells": [
  {
   "cell_type": "code",
   "execution_count": null,
   "metadata": {},
   "outputs": [],
   "source": [
    "from torch.utils.data import Dataset\n",
    "import os\n",
    "\n",
    "\n",
    "class AudioDataset(Dataset):\n",
    "    def __init__(self, data_dir, no_label=False):\n",
    "        self.data_dir = data_dir\n",
    "        self.data_map = []\n",
    "\n",
    "        dir_map = os.listdir(data_dir)\n",
    "        for d in dir_map:\n",
    "            name, ext = os.path.splitext(d)\n",
    "            if ext == \".wav\":\n",
    "                if no_label:\n",
    "                    self.data_map.append({\"audio\": os.path.join(data_dir, d)})\n",
    "                    continue\n",
    "                if os.path.exists(os.path.join(data_dir, name + \".txt\")):\n",
    "                    self.data_map.append(\n",
    "                        {\n",
    "                            \"audio\": os.path.join(data_dir, d),\n",
    "                            \"label\": os.path.join(data_dir, name + \".txt\"),\n",
    "                        }\n",
    "                    )\n",
    "                else:\n",
    "                    raise ValueError(f\"No label file for {name}\")\n",
    "\n",
    "    def __len__(self):\n",
    "        return len(self.data_map)\n",
    "\n",
    "    def __getitem__(self, idx):\n",
    "        data = self.data_map[idx]\n",
    "        audio = data[\"audio\"]\n",
    "        label = data.get(\"label\", \"\")\n",
    "\n",
    "        return audio, label"
   ]
  }
 ],
 "metadata": {
  "kernelspec": {
   "display_name": "Python 3",
   "language": "python",
   "name": "python3"
  },
  "language_info": {
   "name": "python",
   "version": "3.11.10"
  }
 },
 "nbformat": 4,
 "nbformat_minor": 2
}
