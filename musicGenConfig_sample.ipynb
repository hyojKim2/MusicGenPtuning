{
 "cells": [
  {
   "cell_type": "code",
   "execution_count": 1,
   "metadata": {},
   "outputs": [
    {
     "name": "stderr",
     "output_type": "stream",
     "text": [
      "c:\\Users\\a\\Desktop\\MusicGen\\.conda\\Lib\\site-packages\\tqdm\\auto.py:21: TqdmWarning: IProgress not found. Please update jupyter and ipywidgets. See https://ipywidgets.readthedocs.io/en/stable/user_install.html\n",
      "  from .autonotebook import tqdm as notebook_tqdm\n",
      "c:\\Users\\a\\Desktop\\MusicGen\\.conda\\Lib\\site-packages\\transformers\\models\\encodec\\modeling_encodec.py:124: UserWarning: To copy construct from a tensor, it is recommended to use sourceTensor.clone().detach() or sourceTensor.clone().detach().requires_grad_(True), rather than torch.tensor(sourceTensor).\n",
      "  self.register_buffer(\"padding_total\", torch.tensor(kernel_size - stride, dtype=torch.int64), persistent=False)\n",
      "c:\\Users\\a\\Desktop\\MusicGen\\.conda\\Lib\\site-packages\\transformers\\models\\encodec\\modeling_encodec.py:124: UserWarning: To copy construct from a tensor, it is recommended to use sourceTensor.clone().detach() or sourceTensor.clone().detach().requires_grad_(True), rather than torch.tensor(sourceTensor).\n",
      "  self.register_buffer(\"padding_total\", torch.tensor(kernel_size - stride, dtype=torch.int64), persistent=False)\n"
     ]
    }
   ],
   "source": [
    "from transformers import (\n",
    "    MusicgenConfig,\n",
    "    MusicgenDecoderConfig,\n",
    "    T5Config,\n",
    "    EncodecConfig,\n",
    "    MusicgenForConditionalGeneration,\n",
    ")\n",
    "\n",
    "# Initializing text encoder, audio encoder, and decoder model configurations\n",
    "text_encoder_config = T5Config()\n",
    "audio_encoder_config = EncodecConfig()\n",
    "decoder_config = MusicgenDecoderConfig()\n",
    "\n",
    "configuration = MusicgenConfig.from_sub_models_config(\n",
    "    text_encoder_config, audio_encoder_config, decoder_config\n",
    ")\n",
    "\n",
    "# Initializing a MusicgenForConditionalGeneration (with random weights) from the facebook/musicgen-small style configuration\n",
    "model = MusicgenForConditionalGeneration(configuration)\n",
    "\n",
    "# Accessing the model configuration\n",
    "configuration = model.config\n",
    "config_text_encoder = model.config.text_encoder\n",
    "config_audio_encoder = model.config.audio_encoder\n",
    "config_decoder = model.config.decoder\n",
    "\n",
    "# Saving the model, including its configuration\n",
    "modelName=\"C:/Users/a/Desktop/MusicGen/musicgen-model\"\n",
    "model.save_pretrained(modelName)\n",
    "\n",
    "# loading model and config from pretrained folder\n",
    "musicgen_config = MusicgenConfig.from_pretrained(modelName)\n",
    "model = MusicgenForConditionalGeneration.from_pretrained(modelName, config=musicgen_config)"
   ]
  },
  {
   "cell_type": "code",
   "execution_count": 2,
   "metadata": {},
   "outputs": [
    {
     "name": "stdout",
     "output_type": "stream",
     "text": [
      "Collecting transformers\n",
      "  Downloading transformers-4.45.1-py3-none-any.whl.metadata (44 kB)\n",
      "Collecting filelock (from transformers)\n",
      "  Downloading filelock-3.16.1-py3-none-any.whl.metadata (2.9 kB)\n",
      "Collecting huggingface-hub<1.0,>=0.23.2 (from transformers)\n",
      "  Downloading huggingface_hub-0.25.1-py3-none-any.whl.metadata (13 kB)\n",
      "Collecting numpy>=1.17 (from transformers)\n",
      "  Downloading numpy-2.1.1-cp311-cp311-win_amd64.whl.metadata (59 kB)\n",
      "Requirement already satisfied: packaging>=20.0 in c:\\users\\a\\desktop\\musicgen\\.conda\\lib\\site-packages (from transformers) (24.1)\n",
      "Collecting pyyaml>=5.1 (from transformers)\n",
      "  Downloading PyYAML-6.0.2-cp311-cp311-win_amd64.whl.metadata (2.1 kB)\n",
      "Collecting regex!=2019.12.17 (from transformers)\n",
      "  Downloading regex-2024.9.11-cp311-cp311-win_amd64.whl.metadata (41 kB)\n",
      "Collecting requests (from transformers)\n",
      "  Downloading requests-2.32.3-py3-none-any.whl.metadata (4.6 kB)\n",
      "Collecting safetensors>=0.4.1 (from transformers)\n",
      "  Downloading safetensors-0.4.5-cp311-none-win_amd64.whl.metadata (3.9 kB)\n",
      "Collecting tokenizers<0.21,>=0.20 (from transformers)\n",
      "  Downloading tokenizers-0.20.0-cp311-none-win_amd64.whl.metadata (6.9 kB)\n",
      "Collecting tqdm>=4.27 (from transformers)\n",
      "  Downloading tqdm-4.66.5-py3-none-any.whl.metadata (57 kB)\n",
      "Collecting fsspec>=2023.5.0 (from huggingface-hub<1.0,>=0.23.2->transformers)\n",
      "  Downloading fsspec-2024.9.0-py3-none-any.whl.metadata (11 kB)\n",
      "Requirement already satisfied: typing-extensions>=3.7.4.3 in c:\\users\\a\\desktop\\musicgen\\.conda\\lib\\site-packages (from huggingface-hub<1.0,>=0.23.2->transformers) (4.12.2)\n",
      "Requirement already satisfied: colorama in c:\\users\\a\\desktop\\musicgen\\.conda\\lib\\site-packages (from tqdm>=4.27->transformers) (0.4.6)\n",
      "Collecting charset-normalizer<4,>=2 (from requests->transformers)\n",
      "  Downloading charset_normalizer-3.3.2-cp311-cp311-win_amd64.whl.metadata (34 kB)\n",
      "Collecting idna<4,>=2.5 (from requests->transformers)\n",
      "  Downloading idna-3.10-py3-none-any.whl.metadata (10 kB)\n",
      "Collecting urllib3<3,>=1.21.1 (from requests->transformers)\n",
      "  Downloading urllib3-2.2.3-py3-none-any.whl.metadata (6.5 kB)\n",
      "Collecting certifi>=2017.4.17 (from requests->transformers)\n",
      "  Downloading certifi-2024.8.30-py3-none-any.whl.metadata (2.2 kB)\n",
      "Downloading transformers-4.45.1-py3-none-any.whl (9.9 MB)\n",
      "   ---------------------------------------- 0.0/9.9 MB ? eta -:--:--\n",
      "   ---------------------------------------  9.7/9.9 MB 54.9 MB/s eta 0:00:01\n",
      "   ---------------------------------------- 9.9/9.9 MB 43.9 MB/s eta 0:00:00\n",
      "Downloading huggingface_hub-0.25.1-py3-none-any.whl (436 kB)\n",
      "Downloading numpy-2.1.1-cp311-cp311-win_amd64.whl (12.9 MB)\n",
      "   ---------------------------------------- 0.0/12.9 MB ? eta -:--:--\n",
      "   ---------- ----------------------------- 3.4/12.9 MB 22.3 MB/s eta 0:00:01\n",
      "   ------------------------ --------------- 7.9/12.9 MB 18.0 MB/s eta 0:00:01\n",
      "   -------------------------- ------------- 8.7/12.9 MB 14.5 MB/s eta 0:00:01\n",
      "   ---------------------------------------  12.8/12.9 MB 15.8 MB/s eta 0:00:01\n",
      "   ---------------------------------------- 12.9/12.9 MB 14.7 MB/s eta 0:00:00\n",
      "Downloading PyYAML-6.0.2-cp311-cp311-win_amd64.whl (161 kB)\n",
      "Downloading regex-2024.9.11-cp311-cp311-win_amd64.whl (274 kB)\n",
      "Downloading safetensors-0.4.5-cp311-none-win_amd64.whl (285 kB)\n",
      "Downloading tokenizers-0.20.0-cp311-none-win_amd64.whl (2.3 MB)\n",
      "   ---------------------------------------- 0.0/2.3 MB ? eta -:--:--\n",
      "   ---------------------- ----------------- 1.3/2.3 MB 7.4 MB/s eta 0:00:01\n",
      "   ---------------------------------------- 2.3/2.3 MB 6.3 MB/s eta 0:00:00\n",
      "Downloading tqdm-4.66.5-py3-none-any.whl (78 kB)\n",
      "Downloading filelock-3.16.1-py3-none-any.whl (16 kB)\n",
      "Downloading requests-2.32.3-py3-none-any.whl (64 kB)\n",
      "Downloading certifi-2024.8.30-py3-none-any.whl (167 kB)\n",
      "Downloading charset_normalizer-3.3.2-cp311-cp311-win_amd64.whl (99 kB)\n",
      "Downloading fsspec-2024.9.0-py3-none-any.whl (179 kB)\n",
      "Downloading idna-3.10-py3-none-any.whl (70 kB)\n",
      "Downloading urllib3-2.2.3-py3-none-any.whl (126 kB)\n",
      "Installing collected packages: urllib3, tqdm, safetensors, regex, pyyaml, numpy, idna, fsspec, filelock, charset-normalizer, certifi, requests, huggingface-hub, tokenizers, transformers\n",
      "Successfully installed certifi-2024.8.30 charset-normalizer-3.3.2 filelock-3.16.1 fsspec-2024.9.0 huggingface-hub-0.25.1 idna-3.10 numpy-2.1.1 pyyaml-6.0.2 regex-2024.9.11 requests-2.32.3 safetensors-0.4.5 tokenizers-0.20.0 tqdm-4.66.5 transformers-4.45.1 urllib3-2.2.3\n",
      "Note: you may need to restart the kernel to use updated packages.\n"
     ]
    }
   ],
   "source": [
    "pip install transformers"
   ]
  },
  {
   "cell_type": "code",
   "execution_count": 2,
   "metadata": {},
   "outputs": [
    {
     "name": "stdout",
     "output_type": "stream",
     "text": [
      "Collecting scipy\n",
      "  Downloading scipy-1.14.1-cp311-cp311-win_amd64.whl.metadata (60 kB)\n",
      "Requirement already satisfied: numpy<2.3,>=1.23.5 in c:\\users\\a\\desktop\\musicgen\\.conda\\lib\\site-packages (from scipy) (2.1.1)\n",
      "Downloading scipy-1.14.1-cp311-cp311-win_amd64.whl (44.8 MB)\n",
      "   ---------------------------------------- 0.0/44.8 MB ? eta -:--:--\n",
      "   ------- -------------------------------- 8.7/44.8 MB 44.6 MB/s eta 0:00:01\n",
      "   ----------------- ---------------------- 19.1/44.8 MB 50.3 MB/s eta 0:00:01\n",
      "   --------------------------- ------------ 30.4/44.8 MB 49.4 MB/s eta 0:00:01\n",
      "   -------------------------------------- - 42.7/44.8 MB 51.3 MB/s eta 0:00:01\n",
      "   ---------------------------------------- 44.8/44.8 MB 45.2 MB/s eta 0:00:00\n",
      "Installing collected packages: scipy\n",
      "Successfully installed scipy-1.14.1\n",
      "Note: you may need to restart the kernel to use updated packages.\n"
     ]
    }
   ],
   "source": [
    "pip install scipy"
   ]
  },
  {
   "cell_type": "code",
   "execution_count": 3,
   "metadata": {},
   "outputs": [
    {
     "name": "stdout",
     "output_type": "stream",
     "text": [
      "Collecting torch\n",
      "  Downloading torch-2.4.1-cp311-cp311-win_amd64.whl.metadata (27 kB)\n",
      "Requirement already satisfied: filelock in c:\\users\\a\\desktop\\musicgen\\.conda\\lib\\site-packages (from torch) (3.16.1)\n",
      "Requirement already satisfied: typing-extensions>=4.8.0 in c:\\users\\a\\desktop\\musicgen\\.conda\\lib\\site-packages (from torch) (4.12.2)\n",
      "Collecting sympy (from torch)\n",
      "  Downloading sympy-1.13.3-py3-none-any.whl.metadata (12 kB)\n",
      "Collecting networkx (from torch)\n",
      "  Downloading networkx-3.3-py3-none-any.whl.metadata (5.1 kB)\n",
      "Collecting jinja2 (from torch)\n",
      "  Downloading jinja2-3.1.4-py3-none-any.whl.metadata (2.6 kB)\n",
      "Requirement already satisfied: fsspec in c:\\users\\a\\desktop\\musicgen\\.conda\\lib\\site-packages (from torch) (2024.9.0)\n",
      "Collecting MarkupSafe>=2.0 (from jinja2->torch)\n",
      "  Downloading MarkupSafe-2.1.5-cp311-cp311-win_amd64.whl.metadata (3.1 kB)\n",
      "Collecting mpmath<1.4,>=1.1.0 (from sympy->torch)\n",
      "  Downloading mpmath-1.3.0-py3-none-any.whl.metadata (8.6 kB)\n",
      "Downloading torch-2.4.1-cp311-cp311-win_amd64.whl (199.4 MB)\n",
      "   ---------------------------------------- 0.0/199.4 MB ? eta -:--:--\n",
      "   -- ------------------------------------- 10.7/199.4 MB 55.8 MB/s eta 0:00:04\n",
      "   --- ------------------------------------ 18.1/199.4 MB 43.8 MB/s eta 0:00:05\n",
      "   ----- ---------------------------------- 28.3/199.4 MB 48.4 MB/s eta 0:00:04\n",
      "   -------- ------------------------------- 40.4/199.4 MB 49.3 MB/s eta 0:00:04\n",
      "   ---------- ----------------------------- 53.0/199.4 MB 51.1 MB/s eta 0:00:03\n",
      "   ------------- -------------------------- 65.3/199.4 MB 52.0 MB/s eta 0:00:03\n",
      "   -------------- ------------------------- 72.4/199.4 MB 52.4 MB/s eta 0:00:03\n",
      "   --------------- ------------------------ 77.6/199.4 MB 49.5 MB/s eta 0:00:03\n",
      "   ---------------- ----------------------- 82.3/199.4 MB 43.8 MB/s eta 0:00:03\n",
      "   ------------------ --------------------- 94.6/199.4 MB 45.1 MB/s eta 0:00:03\n",
      "   -------------------- ------------------ 107.0/199.4 MB 46.1 MB/s eta 0:00:03\n",
      "   ----------------------- --------------- 119.5/199.4 MB 47.4 MB/s eta 0:00:02\n",
      "   ------------------------- ------------- 127.9/199.4 MB 48.0 MB/s eta 0:00:02\n",
      "   ------------------------- ------------- 131.1/199.4 MB 45.2 MB/s eta 0:00:02\n",
      "   -------------------------- ------------ 136.6/199.4 MB 43.2 MB/s eta 0:00:02\n",
      "   --------------------------- ----------- 140.5/199.4 MB 41.7 MB/s eta 0:00:02\n",
      "   ----------------------------- --------- 151.5/199.4 MB 42.5 MB/s eta 0:00:02\n",
      "   ----------------------------- --------- 153.1/199.4 MB 42.5 MB/s eta 0:00:02\n",
      "   ------------------------------ -------- 158.3/199.4 MB 40.6 MB/s eta 0:00:02\n",
      "   -------------------------------- ------ 164.6/199.4 MB 39.5 MB/s eta 0:00:01\n",
      "   ---------------------------------- ---- 175.9/199.4 MB 39.9 MB/s eta 0:00:01\n",
      "   ------------------------------------ -- 187.7/199.4 MB 40.7 MB/s eta 0:00:01\n",
      "   ------------------------------------ -- 187.7/199.4 MB 40.7 MB/s eta 0:00:01\n",
      "   --------------------------------------  196.6/199.4 MB 39.0 MB/s eta 0:00:01\n",
      "   --------------------------------------  199.2/199.4 MB 39.2 MB/s eta 0:00:01\n",
      "   --------------------------------------  199.2/199.4 MB 39.2 MB/s eta 0:00:01\n",
      "   --------------------------------------  199.2/199.4 MB 39.2 MB/s eta 0:00:01\n",
      "   --------------------------------------  199.2/199.4 MB 39.2 MB/s eta 0:00:01\n",
      "   --------------------------------------  199.2/199.4 MB 39.2 MB/s eta 0:00:01\n",
      "   --------------------------------------  199.2/199.4 MB 39.2 MB/s eta 0:00:01\n",
      "   --------------------------------------- 199.4/199.4 MB 30.6 MB/s eta 0:00:00\n",
      "Downloading jinja2-3.1.4-py3-none-any.whl (133 kB)\n",
      "Downloading networkx-3.3-py3-none-any.whl (1.7 MB)\n",
      "   ---------------------------------------- 0.0/1.7 MB ? eta -:--:--\n",
      "   ---------------------------------------- 1.7/1.7 MB 46.5 MB/s eta 0:00:00\n",
      "Downloading sympy-1.13.3-py3-none-any.whl (6.2 MB)\n",
      "   ---------------------------------------- 0.0/6.2 MB ? eta -:--:--\n",
      "   ----------------------------------- ---- 5.5/6.2 MB 33.6 MB/s eta 0:00:01\n",
      "   ---------------------------------------- 6.2/6.2 MB 18.1 MB/s eta 0:00:00\n",
      "Downloading MarkupSafe-2.1.5-cp311-cp311-win_amd64.whl (17 kB)\n",
      "Downloading mpmath-1.3.0-py3-none-any.whl (536 kB)\n",
      "   ---------------------------------------- 0.0/536.2 kB ? eta -:--:--\n",
      "   --------------------------------------- 536.2/536.2 kB 17.1 MB/s eta 0:00:00\n",
      "Installing collected packages: mpmath, sympy, networkx, MarkupSafe, jinja2, torch\n",
      "Successfully installed MarkupSafe-2.1.5 jinja2-3.1.4 mpmath-1.3.0 networkx-3.3 sympy-1.13.3 torch-2.4.1\n",
      "Note: you may need to restart the kernel to use updated packages.\n"
     ]
    }
   ],
   "source": [
    "pip install torch"
   ]
  },
  {
   "cell_type": "code",
   "execution_count": 3,
   "metadata": {},
   "outputs": [
    {
     "name": "stderr",
     "output_type": "stream",
     "text": [
      "c:\\Users\\a\\Desktop\\MusicGen\\.conda\\Lib\\site-packages\\tqdm\\auto.py:21: TqdmWarning: IProgress not found. Please update jupyter and ipywidgets. See https://ipywidgets.readthedocs.io/en/stable/user_install.html\n",
      "  from .autonotebook import tqdm as notebook_tqdm\n",
      "c:\\Users\\a\\Desktop\\MusicGen\\.conda\\Lib\\site-packages\\huggingface_hub\\file_download.py:147: UserWarning: `huggingface_hub` cache-system uses symlinks by default to efficiently store duplicated files but your machine does not support them in C:\\Users\\a\\.cache\\huggingface\\hub\\models--facebook--musicgen-small. Caching files will still work but in a degraded version that might require more space on your disk. This warning can be disabled by setting the `HF_HUB_DISABLE_SYMLINKS_WARNING` environment variable. For more details, see https://huggingface.co/docs/huggingface_hub/how-to-cache#limitations.\n",
      "To support symlinks on Windows, you either need to activate Developer Mode or to run Python as an administrator. In order to activate developer mode, see this article: https://docs.microsoft.com/en-us/windows/apps/get-started/enable-your-device-for-development\n",
      "  warnings.warn(message)\n",
      "c:\\Users\\a\\Desktop\\MusicGen\\.conda\\Lib\\site-packages\\transformers\\models\\encodec\\modeling_encodec.py:124: UserWarning: To copy construct from a tensor, it is recommended to use sourceTensor.clone().detach() or sourceTensor.clone().detach().requires_grad_(True), rather than torch.tensor(sourceTensor).\n",
      "  self.register_buffer(\"padding_total\", torch.tensor(kernel_size - stride, dtype=torch.int64), persistent=False)\n",
      "`torch.nn.functional.scaled_dot_product_attention` does not support having an empty attention mask. Falling back to the manual attention implementation. This warning can be removed using the argument `attn_implementation=\"eager\"` when loading the model.Note that this probably happens because `guidance_scale>1` or because you used `get_unconditional_inputs`. See https://github.com/huggingface/transformers/issues/31189 for more information.\n"
     ]
    }
   ],
   "source": [
    "from transformers import AutoProcessor, MusicgenForConditionalGeneration\n",
    "import scipy\n",
    "import torch\n",
    "\n",
    "processor = AutoProcessor.from_pretrained(\"facebook/musicgen-small\")\n",
    "model = MusicgenForConditionalGeneration.from_pretrained(\"facebook/musicgen-small\")\n",
    "\n",
    "inputs = processor(\n",
    "    text=[\"cute music with piano, christmas mood\"],\n",
    "    padding=True,\n",
    "    return_tensors=\"pt\",\n",
    ")\n",
    "audio_values = model.generate(**inputs, do_sample=True, guidance_scale=3, max_new_tokens=256)\n",
    "\n",
    "\n",
    "sampling_rate = model.config.audio_encoder.sampling_rate\n",
    "scipy.io.wavfile.write(\"C:/Users/a/Desktop/MusicGen/music/musicgen_out_vs.wav\", rate=sampling_rate, data=audio_values[0, 0].numpy())\n"
   ]
  }
 ],
 "metadata": {
  "kernelspec": {
   "display_name": "Python 3",
   "language": "python",
   "name": "python3"
  },
  "language_info": {
   "codemirror_mode": {
    "name": "ipython",
    "version": 3
   },
   "file_extension": ".py",
   "mimetype": "text/x-python",
   "name": "python",
   "nbconvert_exporter": "python",
   "pygments_lexer": "ipython3",
   "version": "3.11.10"
  }
 },
 "nbformat": 4,
 "nbformat_minor": 2
}
