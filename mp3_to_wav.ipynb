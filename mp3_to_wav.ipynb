{
 "cells": [
  {
   "cell_type": "code",
   "execution_count": null,
   "metadata": {},
   "outputs": [
    {
     "name": "stderr",
     "output_type": "stream",
     "text": [
      "100%|██████████| 10/10 [00:00<00:00, 10.24it/s]\n"
     ]
    }
   ],
   "source": [
    "import subprocess\n",
    "from pathlib import Path\n",
    "\n",
    "from tqdm import tqdm\n",
    "\n",
    "ffmpeg_location = 'C:/Program Files/ffmpeg-2024-11-13-git-322b240cea-full_build/bin/ffmpeg.exe' #경로설정\n",
    "source_dir = Path('C:/Users/a/Desktop/MusicGen/dataset_classicalJazz')\n",
    "target_dir = Path('C:/Users/a/Desktop/MusicGen/dataset_wav')\n",
    "target_dir.mkdir(parents=True, exist_ok=True)\n",
    "\n",
    "mp3_files = list(source_dir.glob('*.mp3'))\n",
    "for mp3_file in tqdm(mp3_files):\n",
    "    wav_file = target_dir / mp3_file.with_suffix('.wav').name\n",
    "    command = [ffmpeg_location, '-i', str(mp3_file), '-ar', '32000', str(wav_file)]\n",
    "    \n",
    "    subprocess.run(command, stdout=subprocess.DEVNULL, stderr=subprocess.STDOUT, check=True)"
   ]
  },
  {
   "cell_type": "code",
   "execution_count": null,
   "metadata": {},
   "outputs": [],
   "source": []
  }
 ],
 "metadata": {
  "kernelspec": {
   "display_name": "Python 3",
   "language": "python",
   "name": "python3"
  },
  "language_info": {
   "codemirror_mode": {
    "name": "ipython",
    "version": 3
   },
   "file_extension": ".py",
   "mimetype": "text/x-python",
   "name": "python",
   "nbconvert_exporter": "python",
   "pygments_lexer": "ipython3",
   "version": "3.11.10"
  }
 },
 "nbformat": 4,
 "nbformat_minor": 2
}
