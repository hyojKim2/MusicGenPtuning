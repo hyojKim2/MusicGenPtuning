{
 "cells": [
  {
   "cell_type": "code",
   "execution_count": 13,
   "metadata": {},
   "outputs": [
    {
     "ename": "AttributeError",
     "evalue": "module 'demucs' has no attribute 'api'",
     "output_type": "error",
     "traceback": [
      "\u001b[1;31m---------------------------------------------------------------------------\u001b[0m",
      "\u001b[1;31mAttributeError\u001b[0m                            Traceback (most recent call last)",
      "Cell \u001b[1;32mIn[13], line 12\u001b[0m\n\u001b[0;32m      9\u001b[0m Path(original_dir)\u001b[38;5;241m.\u001b[39mmkdir(exist_ok\u001b[38;5;241m=\u001b[39m\u001b[38;5;28;01mTrue\u001b[39;00m)\n\u001b[0;32m     10\u001b[0m Path(no_voice_dir)\u001b[38;5;241m.\u001b[39mmkdir(exist_ok\u001b[38;5;241m=\u001b[39m\u001b[38;5;28;01mTrue\u001b[39;00m)\n\u001b[1;32m---> 12\u001b[0m pp \u001b[38;5;241m=\u001b[39m \u001b[43mPostprocessor\u001b[49m\u001b[43m(\u001b[49m\u001b[43m)\u001b[49m\n\u001b[0;32m     13\u001b[0m wav_files \u001b[38;5;241m=\u001b[39m \u001b[38;5;28mlist\u001b[39m(Path(source_dir)\u001b[38;5;241m.\u001b[39mglob(\u001b[38;5;124m'\u001b[39m\u001b[38;5;124m*.wav\u001b[39m\u001b[38;5;124m'\u001b[39m))\n\u001b[0;32m     15\u001b[0m \u001b[38;5;28;01mfor\u001b[39;00m wav_file \u001b[38;5;129;01min\u001b[39;00m tqdm(wav_files):\n",
      "File \u001b[1;32mc:\\Users\\a\\Desktop\\MusicGen\\personal_musicgen\\data\\postprocess.py:156\u001b[0m, in \u001b[0;36mPostprocessor.__init__\u001b[1;34m(self)\u001b[0m\n\u001b[0;32m    152\u001b[0m \u001b[38;5;28mself\u001b[39m\u001b[38;5;241m.\u001b[39msampling_rate \u001b[38;5;241m=\u001b[39m \u001b[38;5;28mself\u001b[39m\u001b[38;5;241m.\u001b[39mfeature_extractor\u001b[38;5;241m.\u001b[39msampling_rate\n\u001b[0;32m    153\u001b[0m \u001b[38;5;28mself\u001b[39m\u001b[38;5;241m.\u001b[39mgenre_model \u001b[38;5;241m=\u001b[39m Wav2Vec2ForAudioClassification \\\n\u001b[0;32m    154\u001b[0m     \u001b[38;5;241m.\u001b[39mfrom_pretrained(genre_model_name)\u001b[38;5;241m.\u001b[39mto(\u001b[38;5;28mself\u001b[39m\u001b[38;5;241m.\u001b[39mdevice)\n\u001b[1;32m--> 156\u001b[0m \u001b[38;5;28mself\u001b[39m\u001b[38;5;241m.\u001b[39mseparator \u001b[38;5;241m=\u001b[39m \u001b[43mdemucs\u001b[49m\u001b[38;5;241;43m.\u001b[39;49m\u001b[43mapi\u001b[49m\u001b[38;5;241m.\u001b[39mSeparator()\n",
      "\u001b[1;31mAttributeError\u001b[0m: module 'demucs' has no attribute 'api'"
     ]
    }
   ],
   "source": [
    "from pathlib import Path\n",
    "\n",
    "from personal_musicgen.data.postprocess import Postprocessor\n",
    "from tqdm import tqdm\n",
    "\n",
    "source_dir = 'data/always/wav_32k/'\n",
    "original_dir = 'C:/Users/a/Desktop/MusicGen/dataset_classicalJazz/original'\n",
    "no_voice_dir = 'C:/Users/a/Desktop/MusicGen/dataset_wav_30'\n",
    "Path(original_dir).mkdir(exist_ok=True)\n",
    "Path(no_voice_dir).mkdir(exist_ok=True)\n",
    "\n",
    "pp = Postprocessor()\n",
    "wav_files = list(Path(source_dir).glob('*.wav'))\n",
    "\n",
    "for wav_file in tqdm(wav_files):\n",
    "    wav_fp = source_dir + wav_file.name\n",
    "    try:\n",
    "        pp.postprocess(wav_fp, original_dir, no_voice_dir, max_chunks=None, pred_genre=False)\n",
    "    except:\n",
    "        print(f'Failed to process {wav_fp}')\n",
    "        continue"
   ]
  },
  {
   "cell_type": "code",
   "execution_count": 11,
   "metadata": {},
   "outputs": [
    {
     "name": "stdout",
     "output_type": "stream",
     "text": [
      "Name: demucs\n",
      "Version: 4.0.1\n",
      "Summary: Music source separation in the waveform domain.\n",
      "Home-page: https://github.com/facebookresearch/demucs\n",
      "Author: Alexandre Défossez\n",
      "Author-email: defossez@fb.com\n",
      "License: MIT License\n",
      "Location: c:\\Users\\a\\Desktop\\MusicGen\\.conda\\Lib\\site-packages\n",
      "Requires: dora-search, einops, julius, lameenc, openunmix, pyyaml, torch, torchaudio, tqdm\n",
      "Required-by: audiocraft\n",
      "Note: you may need to restart the kernel to use updated packages.\n"
     ]
    }
   ],
   "source": [
    "pip show demucs"
   ]
  },
  {
   "cell_type": "code",
   "execution_count": 3,
   "metadata": {},
   "outputs": [
    {
     "name": "stdout",
     "output_type": "stream",
     "text": [
      "4.0.1\n"
     ]
    }
   ],
   "source": [
    "import demucs\n",
    "print(demucs.__version__)\n"
   ]
  }
 ],
 "metadata": {
  "kernelspec": {
   "display_name": "Python 3",
   "language": "python",
   "name": "python3"
  },
  "language_info": {
   "codemirror_mode": {
    "name": "ipython",
    "version": 3
   },
   "file_extension": ".py",
   "mimetype": "text/x-python",
   "name": "python",
   "nbconvert_exporter": "python",
   "pygments_lexer": "ipython3",
   "version": "3.11.10"
  }
 },
 "nbformat": 4,
 "nbformat_minor": 2
}
