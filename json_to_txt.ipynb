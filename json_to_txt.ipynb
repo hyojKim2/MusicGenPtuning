{
 "cells": [
  {
   "cell_type": "code",
   "execution_count": 5,
   "metadata": {},
   "outputs": [
    {
     "name": "stderr",
     "output_type": "stream",
     "text": [
      "100%|██████████| 10/10 [00:00<00:00, 622.91it/s]\n"
     ]
    }
   ],
   "source": [
    "import subprocess\n",
    "import json\n",
    "\n",
    "from pathlib import Path\n",
    "\n",
    "from tqdm import tqdm\n",
    "\n",
    "ffmpeg_location = 'C:/Program Files/ffmpeg-2024-11-13-git-322b240cea-full_build/bin/ffmpeg.exe' #경로설정\n",
    "source_dir = Path('C:/Users/a/Desktop/MusicGen/dataset_classicalJazz')\n",
    "target_dir = Path('C:/Users/a/Desktop/MusicGen/dataset_wav')\n",
    "target_dir.mkdir(parents=True, exist_ok=True)\n",
    "\n",
    "\n",
    "\n",
    "json_files = list(source_dir.glob('*.json'))\n",
    "for json_file in tqdm(json_files):\n",
    "    # JSON 파일 읽기\n",
    "    with open(json_file, 'r', encoding='utf-8') as jf:\n",
    "        data = json.load(jf)\n",
    "    \n",
    "    # 텍스트 파일 경로 설정 (확장자만 .txt로 변경)\n",
    "    txt_file_path = target_dir / json_file.with_suffix('.txt').name\n",
    "    \n",
    "    # JSON 데이터를 텍스트로 변환하여 저장\n",
    "    with open(txt_file_path, 'w', encoding='utf-8') as txt_file:\n",
    "        txt_file.write(json.dumps(data, indent=4, ensure_ascii=False))"
   ]
  }
 ],
 "metadata": {
  "kernelspec": {
   "display_name": "Python 3",
   "language": "python",
   "name": "python3"
  },
  "language_info": {
   "codemirror_mode": {
    "name": "ipython",
    "version": 3
   },
   "file_extension": ".py",
   "mimetype": "text/x-python",
   "name": "python",
   "nbconvert_exporter": "python",
   "pygments_lexer": "ipython3",
   "version": "3.11.10"
  }
 },
 "nbformat": 4,
 "nbformat_minor": 2
}
